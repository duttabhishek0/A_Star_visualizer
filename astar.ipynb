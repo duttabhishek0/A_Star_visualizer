{
 "cells": [
  {
   "cell_type": "code",
   "execution_count": 1,
   "id": "788d9406",
   "metadata": {},
   "outputs": [
    {
     "name": "stdout",
     "output_type": "stream",
     "text": [
      "pygame 2.0.1 (SDL 2.0.14, Python 3.8.8)\n",
      "Hello from the pygame community. https://www.pygame.org/contribute.html\n"
     ]
    }
   ],
   "source": [
    "import pygame\n",
    "import astar_draw as graph\n",
    "import node\n",
    "import algorithm\n",
    "\n",
    "SIZE = 700\n",
    "WIN = pygame.display.set_mode((SIZE, SIZE))\n",
    "pygame.display.set_caption(\"A* Path Finder\")\n",
    "\n",
    "# Main segment\n",
    "ROWS = 50\n",
    "grid = graph.genGrid(ROWS, SIZE)\n",
    "\n",
    "start = end = None\n",
    "running = True\n",
    "\n",
    "while running:\n",
    "    graph.draw(WIN, grid, ROWS, SIZE)\n",
    "    for event in pygame.event.get():\n",
    "        if event.type == pygame.QUIT:\n",
    "            running = False\n",
    "\n",
    "        mouseEvent = pygame.mouse.get_pressed()\n",
    "\n",
    "        if mouseEvent[0]:\n",
    "            pos = pygame.mouse.get_pos()\n",
    "            row, col = graph.getClickedPos(pos, ROWS, SIZE)\n",
    "            node = grid[row][col]\n",
    "\n",
    "            if not start and node != end:\n",
    "                start = node\n",
    "                start.setStart()\n",
    "\n",
    "            elif not end and node != start:\n",
    "                end = node\n",
    "                end.setEnd()\n",
    "\n",
    "            elif node != start and node != end:\n",
    "                node.setWall()\n",
    "        \n",
    "        if mouseEvent[2]:\n",
    "            pos = pygame.mouse.get_pos()\n",
    "            row, col = graph.getClickedPos(pos, ROWS, SIZE)\n",
    "            node = grid[row][col]\n",
    "\n",
    "            node.reset()\n",
    "            if node == start:\n",
    "                start = None\n",
    "            elif node == end:\n",
    "                end = None\n",
    "\n",
    "        if event.type == pygame.KEYDOWN:\n",
    "            if event.key == pygame.K_SPACE and start and end:\n",
    "                for row in grid:\n",
    "                    for node in row:\n",
    "                        node.getNeighbors(grid)\n",
    "\n",
    "                algorithm.astar(lambda: graph.draw(WIN, grid, ROWS, SIZE), grid, start, end)\n",
    "\n",
    "            if event.key == pygame.K_c:\n",
    "                start = end = None\n",
    "                grid = graph.genGrid(ROWS, SIZE)\n",
    "\n",
    "pygame.quit()\n"
   ]
  },
  {
   "cell_type": "code",
   "execution_count": null,
   "id": "5e5ee3a4",
   "metadata": {},
   "outputs": [],
   "source": []
  }
 ],
 "metadata": {
  "kernelspec": {
   "display_name": "Python 3",
   "language": "python",
   "name": "python3"
  },
  "language_info": {
   "codemirror_mode": {
    "name": "ipython",
    "version": 3
   },
   "file_extension": ".py",
   "mimetype": "text/x-python",
   "name": "python",
   "nbconvert_exporter": "python",
   "pygments_lexer": "ipython3",
   "version": "3.8.8"
  }
 },
 "nbformat": 4,
 "nbformat_minor": 5
}
